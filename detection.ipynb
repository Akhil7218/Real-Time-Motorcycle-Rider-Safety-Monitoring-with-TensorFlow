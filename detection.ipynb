{
 "cells": [
  {
   "cell_type": "code",
   "execution_count": 35,
   "id": "16415420",
   "metadata": {},
   "outputs": [
    {
     "name": "stdout",
     "output_type": "stream",
     "text": [
      "C:\\AKHIL\\projects\\motercycle_helmet\\detection-of-motorcyclists-without-helmet-main\\HelmetDetection\n"
     ]
    }
   ],
   "source": [
    "%cd C:\\AKHIL\\projects\\motercycle_helmet\\detection-of-motorcyclists-without-helmet-main\\HelmetDetection"
   ]
  },
  {
   "cell_type": "code",
   "execution_count": 36,
   "id": "69c31ab2",
   "metadata": {},
   "outputs": [
    {
     "name": "stderr",
     "output_type": "stream",
     "text": [
      "fatal: destination path 'models' already exists and is not an empty directory.\n"
     ]
    }
   ],
   "source": [
    "# clone Tensorflow object detection api\n",
    "!git clone https://github.com/tensorflow/models"
   ]
  },
  {
   "cell_type": "code",
   "execution_count": 37,
   "id": "3b3240bf",
   "metadata": {},
   "outputs": [
    {
     "name": "stdout",
     "output_type": "stream",
     "text": [
      "C:\\AKHIL\\projects\\motercycle_helmet\\detection-of-motorcyclists-without-helmet-main\\HelmetDetection\\models\\research\n"
     ]
    }
   ],
   "source": [
    "%cd C:\\AKHIL\\projects\\motercycle_helmet\\detection-of-motorcyclists-without-helmet-main\\HelmetDetection\\models\\research"
   ]
  },
  {
   "cell_type": "code",
   "execution_count": 38,
   "id": "f387784b",
   "metadata": {},
   "outputs": [
    {
     "name": "stdout",
     "output_type": "stream",
     "text": [
      "TensorFlow Object Detection API setup complete on Windows!\n"
     ]
    }
   ],
   "source": [
    "\n",
    "\n",
    "!pip install --quiet tf_slim\n",
    "!pip install --quiet --upgrade protobuf\n",
    "!pip install --quiet pillow lxml\n",
    "\n",
    "import os\n",
    "import sys\n",
    "import subprocess  \n",
    "\n",
    "research_path = r\"C:\\AKHIL\\projects\\motercycle_helmet\\detection-of-motorcyclists-without-helmet-main\\HelmetDetection\\models\\research\"\n",
    "os.chdir(research_path)\n",
    "\n",
    "path_protoc = r\"C:\\AKHIL\\projects\\motercycle_helmet\\protoc-32.0-win64\\bin\\protoc.exe\"\n",
    "subprocess.run([path_protoc, \"object_detection/protos/*.proto\", \"--python_out=.\"], shell=True)\n",
    "\n",
    "subprocess.run([sys.executable, \"-m\", \"pip\", \"install\", \".\"], shell=True)\n",
    "\n",
    "sys.path.append(os.path.join(research_path, 'object_detection'))\n",
    "\n",
    "from object_detection.utils import label_map_util\n",
    "from object_detection.utils import visualization_utils as vis_util\n",
    "\n",
    "print(\"TensorFlow Object Detection API setup complete on Windows!\")\n"
   ]
  },
  {
   "cell_type": "code",
   "execution_count": 39,
   "id": "ca16bcd4",
   "metadata": {},
   "outputs": [],
   "source": [
    "import os\n",
    "import cv2\n",
    "import numpy as np\n",
    "import tensorflow as tf\n",
    "import sys\n",
    "from matplotlib import pyplot as plt\n",
    "\n",
    "from object_detection.utils import label_map_util\n",
    "from object_detection.utils import visualization_utils as vis_util\n",
    "\n",
    "def show_image(img, method='matplotlib', window_name=\"Image\"):\n",
    "    if method == 'opencv':\n",
    "        cv2.imshow(window_name, img)\n",
    "        cv2.waitKey(0)\n",
    "        cv2.destroyAllWindows()\n",
    "    elif method == 'matplotlib':\n",
    "        img_rgb = cv2.cvtColor(img, cv2.COLOR_BGR2RGB)\n",
    "        plt.imshow(img_rgb)\n",
    "        plt.axis('off')\n",
    "        plt.show()\n",
    "    else:\n",
    "        raise ValueError(\"Invalid method. Choose 'opencv' or 'matplotlib'.\")\n"
   ]
  },
  {
   "cell_type": "code",
   "execution_count": 40,
   "id": "6e0ff6eb",
   "metadata": {},
   "outputs": [
    {
     "data": {
      "text/plain": [
       "'C:\\\\AKHIL\\\\projects\\\\motercycle_helmet\\\\detection-of-motorcyclists-without-helmet-main\\\\HelmetDetection\\\\models\\\\research'"
      ]
     },
     "execution_count": 40,
     "metadata": {},
     "output_type": "execute_result"
    }
   ],
   "source": [
    "pwd"
   ]
  },
  {
   "cell_type": "code",
   "execution_count": 41,
   "id": "068cd477",
   "metadata": {},
   "outputs": [
    {
     "name": "stderr",
     "output_type": "stream",
     "text": [
      "<>:1: SyntaxWarning: invalid escape sequence '\\A'\n",
      "<>:6: SyntaxWarning: invalid escape sequence '\\A'\n",
      "<>:8: SyntaxWarning: invalid escape sequence '\\A'\n",
      "<>:10: SyntaxWarning: invalid escape sequence '\\A'\n",
      "<>:11: SyntaxWarning: invalid escape sequence '\\A'\n",
      "<>:12: SyntaxWarning: invalid escape sequence '\\A'\n",
      "<>:1: SyntaxWarning: invalid escape sequence '\\A'\n",
      "<>:6: SyntaxWarning: invalid escape sequence '\\A'\n",
      "<>:8: SyntaxWarning: invalid escape sequence '\\A'\n",
      "<>:10: SyntaxWarning: invalid escape sequence '\\A'\n",
      "<>:11: SyntaxWarning: invalid escape sequence '\\A'\n",
      "<>:12: SyntaxWarning: invalid escape sequence '\\A'\n",
      "C:\\Users\\Abhay\\AppData\\Local\\Temp\\ipykernel_9900\\1557713594.py:1: SyntaxWarning: invalid escape sequence '\\A'\n",
      "  CWD_PATH = 'C:\\AKHIL\\projects\\motercycle_helmet\\detection-of-motorcyclists-without-helmet-main\\HelmetDetection'\n",
      "C:\\Users\\Abhay\\AppData\\Local\\Temp\\ipykernel_9900\\1557713594.py:6: SyntaxWarning: invalid escape sequence '\\A'\n",
      "  PATH_TO_CKPT = 'C:\\AKHIL\\projects\\motercycle_helmet\\detection-of-motorcyclists-without-helmet-main\\HelmetDetection\\rcnn\\frozen_inference_graph.pb'\n",
      "C:\\Users\\Abhay\\AppData\\Local\\Temp\\ipykernel_9900\\1557713594.py:8: SyntaxWarning: invalid escape sequence '\\A'\n",
      "  PATH_TO_LABELS = os.path.join('C:\\AKHIL\\projects\\motercycle_helmet\\detection-of-motorcyclists-without-helmet-main\\HelmetDetection\\rcnn\\label_map.pbtxt')\n",
      "C:\\Users\\Abhay\\AppData\\Local\\Temp\\ipykernel_9900\\1557713594.py:10: SyntaxWarning: invalid escape sequence '\\A'\n",
      "  configPath=os.path.join('C:\\AKHIL\\projects\\motercycle_helmet\\detection-of-motorcyclists-without-helmet-main\\HelmetDetection\\yolo\\yolov3_custom.cfg')\n",
      "C:\\Users\\Abhay\\AppData\\Local\\Temp\\ipykernel_9900\\1557713594.py:11: SyntaxWarning: invalid escape sequence '\\A'\n",
      "  weightsPath=os.path.join('C:\\AKHIL\\projects\\motercycle_helmet\\detection-of-motorcyclists-without-helmet-main\\HelmetDetection\\yolo\\yolov3_custom_4000.weights')\n",
      "C:\\Users\\Abhay\\AppData\\Local\\Temp\\ipykernel_9900\\1557713594.py:12: SyntaxWarning: invalid escape sequence '\\A'\n",
      "  labelsPath=os.path.join('C:\\AKHIL\\projects\\motercycle_helmet\\detection-of-motorcyclists-without-helmet-main\\HelmetDetection\\yolo\\obj .names')\n"
     ]
    }
   ],
   "source": [
    "CWD_PATH = 'C:\\AKHIL\\projects\\motercycle_helmet\\detection-of-motorcyclists-without-helmet-main\\HelmetDetection'\n",
    "\n",
    "\n",
    "\n",
    "\n",
    "PATH_TO_CKPT = 'C:\\AKHIL\\projects\\motercycle_helmet\\detection-of-motorcyclists-without-helmet-main\\HelmetDetection\\rcnn\\frozen_inference_graph.pb'\n",
    "\n",
    "PATH_TO_LABELS = os.path.join('C:\\AKHIL\\projects\\motercycle_helmet\\detection-of-motorcyclists-without-helmet-main\\HelmetDetection\\rcnn\\label_map.pbtxt')\n",
    "\n",
    "configPath=os.path.join('C:\\AKHIL\\projects\\motercycle_helmet\\detection-of-motorcyclists-without-helmet-main\\HelmetDetection\\yolo\\yolov3_custom.cfg')\n",
    "weightsPath=os.path.join('C:\\AKHIL\\projects\\motercycle_helmet\\detection-of-motorcyclists-without-helmet-main\\HelmetDetection\\yolo\\yolov3_custom_4000.weights')\n",
    "labelsPath=os.path.join('C:\\AKHIL\\projects\\motercycle_helmet\\detection-of-motorcyclists-without-helmet-main\\HelmetDetection\\yolo\\obj .names')\n"
   ]
  },
  {
   "cell_type": "code",
   "execution_count": 42,
   "id": "69795e80",
   "metadata": {},
   "outputs": [
    {
     "name": "stdout",
     "output_type": "stream",
     "text": [
      "C:\\AKHIL\\projects\\motercycle_helmet\\detection-of-motorcyclists-without-helmet-main\\HelmetDetection\\rcnn\\frozen_inference_graph.pb exists and size is 113937447 bytes\n",
      "C:\\AKHIL\\projects\\motercycle_helmet\\detection-of-motorcyclists-without-helmet-main\\HelmetDetection\\rcnn\\label_map.pbtxt exists and size is 41 bytes\n",
      "C:\\AKHIL\\projects\\motercycle_helmet\\detection-of-motorcyclists-without-helmet-main\\HelmetDetection\\yolo\\yolov3_custom.cfg exists and size is 8328 bytes\n",
      "C:\\AKHIL\\projects\\motercycle_helmet\\detection-of-motorcyclists-without-helmet-main\\HelmetDetection\\yolo\\yolov3_custom_4000.weights exists and size is 246326928 bytes\n",
      "C:\\AKHIL\\projects\\motercycle_helmet\\detection-of-motorcyclists-without-helmet-main\\HelmetDetection\\yolo\\obj .names exists and size is 16 bytes\n"
     ]
    },
    {
     "data": {
      "text/plain": [
       "True"
      ]
     },
     "execution_count": 42,
     "metadata": {},
     "output_type": "execute_result"
    }
   ],
   "source": [
    "import os\n",
    "\n",
    "def check_file_validity(file_path):\n",
    "    if os.path.exists(file_path):\n",
    "        size = os.path.getsize(file_path)\n",
    "        if size > 0:\n",
    "            print(f\"{file_path} exists and size is {size} bytes\")\n",
    "            return True\n",
    "        else:\n",
    "            print(f\"{file_path} is empty (size 0 bytes)\")\n",
    "            return False\n",
    "    else:\n",
    "        print(f\"{file_path} does not exist.\")\n",
    "        return False\n",
    "\n",
    "PATH_TO_CKPT = r\"C:\\AKHIL\\projects\\motercycle_helmet\\detection-of-motorcyclists-without-helmet-main\\HelmetDetection\\rcnn\\frozen_inference_graph.pb\"\n",
    "PATH_TO_LABELS = r\"C:\\AKHIL\\projects\\motercycle_helmet\\detection-of-motorcyclists-without-helmet-main\\HelmetDetection\\rcnn\\label_map.pbtxt\"\n",
    "configPath   = r\"C:\\AKHIL\\projects\\motercycle_helmet\\detection-of-motorcyclists-without-helmet-main\\HelmetDetection\\yolo\\yolov3_custom.cfg\"\n",
    "weightsPath  = r\"C:\\AKHIL\\projects\\motercycle_helmet\\detection-of-motorcyclists-without-helmet-main\\HelmetDetection\\yolo\\yolov3_custom_4000.weights\"\n",
    "labelsPath   = r\"C:\\AKHIL\\projects\\motercycle_helmet\\detection-of-motorcyclists-without-helmet-main\\HelmetDetection\\yolo\\obj .names\"\n",
    "\n",
    "\n",
    "\n",
    "check_file_validity(PATH_TO_CKPT)\n",
    "check_file_validity(PATH_TO_LABELS)\n",
    "check_file_validity(configPath)\n",
    "check_file_validity(weightsPath)\n",
    "check_file_validity(labelsPath)\n"
   ]
  },
  {
   "cell_type": "code",
   "execution_count": 43,
   "id": "077916b3",
   "metadata": {},
   "outputs": [
    {
     "name": "stderr",
     "output_type": "stream",
     "text": [
      "<>:1: SyntaxWarning: invalid escape sequence '\\A'\n",
      "<>:3: SyntaxWarning: invalid escape sequence '\\A'\n",
      "<>:7: SyntaxWarning: invalid escape sequence '\\A'\n",
      "<>:8: SyntaxWarning: invalid escape sequence '\\A'\n",
      "<>:1: SyntaxWarning: invalid escape sequence '\\A'\n",
      "<>:3: SyntaxWarning: invalid escape sequence '\\A'\n",
      "<>:7: SyntaxWarning: invalid escape sequence '\\A'\n",
      "<>:8: SyntaxWarning: invalid escape sequence '\\A'\n",
      "C:\\Users\\Abhay\\AppData\\Local\\Temp\\ipykernel_9900\\138904255.py:1: SyntaxWarning: invalid escape sequence '\\A'\n",
      "  IMAGE_NAME = 'C:\\AKHIL\\projects\\motercycle_helmet\\detection-of-motorcyclists-without-helmet-main\\HelmetDetection\\input\\images\\sample.jpeg'\n",
      "C:\\Users\\Abhay\\AppData\\Local\\Temp\\ipykernel_9900\\138904255.py:3: SyntaxWarning: invalid escape sequence '\\A'\n",
      "  VIDEO_NAME = 'C:\\AKHIL\\projects\\motercycle_helmet\\detection-of-motorcyclists-without-helmet-main\\HelmetDetection\\input\\videos\\clip.mp4'\n",
      "C:\\Users\\Abhay\\AppData\\Local\\Temp\\ipykernel_9900\\138904255.py:7: SyntaxWarning: invalid escape sequence '\\A'\n",
      "  PATH_TO_OUTPUT = os.path.join('C:\\AKHIL\\projects\\motercycle_helmet\\detection-of-motorcyclists-without-helmet-main\\HelmetDetection\\output\\images')\n",
      "C:\\Users\\Abhay\\AppData\\Local\\Temp\\ipykernel_9900\\138904255.py:8: SyntaxWarning: invalid escape sequence '\\A'\n",
      "  VIDEO_OUTPUT = os.path.join('C:\\AKHIL\\projects\\motercycle_helmet\\detection-of-motorcyclists-without-helmet-main\\HelmetDetection\\output\\output_clip.mp4')\n"
     ]
    }
   ],
   "source": [
    "IMAGE_NAME = 'C:\\AKHIL\\projects\\motercycle_helmet\\detection-of-motorcyclists-without-helmet-main\\HelmetDetection\\input\\images\\sample.jpeg'\n",
    "\n",
    "VIDEO_NAME = 'C:\\AKHIL\\projects\\motercycle_helmet\\detection-of-motorcyclists-without-helmet-main\\HelmetDetection\\input\\videos\\clip.mp4'\n",
    "\n",
    "OUTPUT_FOLDER='output/'\n",
    "\n",
    "PATH_TO_OUTPUT = os.path.join('C:\\AKHIL\\projects\\motercycle_helmet\\detection-of-motorcyclists-without-helmet-main\\HelmetDetection\\output\\images')\n",
    "VIDEO_OUTPUT = os.path.join('C:\\AKHIL\\projects\\motercycle_helmet\\detection-of-motorcyclists-without-helmet-main\\HelmetDetection\\output\\output_clip.mp4')\n",
    "\n",
    "PATH_TO_IMAGE = os.path.join(IMAGE_NAME)\n",
    "\n",
    "PATH_TO_VIDEO = os.path.join(VIDEO_NAME)"
   ]
  },
  {
   "cell_type": "code",
   "execution_count": 44,
   "id": "b27f3610",
   "metadata": {},
   "outputs": [],
   "source": [
    "label_map = label_map_util.load_labelmap(PATH_TO_LABELS)\n",
    "categories = label_map_util.convert_label_map_to_categories(label_map, max_num_classes=1, use_display_name=True)\n",
    "category_index = label_map_util.create_category_index(categories)\n",
    "\n",
    "\n",
    "detection_graph = tf.Graph()\n",
    "with detection_graph.as_default():\n",
    "    od_graph_def = tf.compat.v1.GraphDef()\n",
    "    with tf.compat.v2.io.gfile.GFile(PATH_TO_CKPT, 'rb') as fid:\n",
    "        serialized_graph = fid.read()\n",
    "        od_graph_def.ParseFromString(serialized_graph)\n",
    "        tf.import_graph_def(od_graph_def, name='')\n",
    "    sess = tf.compat.v1.Session(graph=detection_graph)\n",
    "\n",
    "\n",
    "image_tensor = detection_graph.get_tensor_by_name('image_tensor:0')\n",
    "\n",
    "detection_boxes = detection_graph.get_tensor_by_name('detection_boxes:0')\n",
    "\n",
    "detection_scores = detection_graph.get_tensor_by_name('detection_scores:0')\n",
    "detection_classes = detection_graph.get_tensor_by_name('detection_classes:0')\n",
    "\n",
    "num_detections = detection_graph.get_tensor_by_name('num_detections:0')"
   ]
  },
  {
   "cell_type": "code",
   "execution_count": 45,
   "id": "cc4c72b3",
   "metadata": {},
   "outputs": [],
   "source": [
    "import cv2\n",
    "\n",
    "configPath = r\"C:\\AKHIL\\projects\\motercycle_helmet\\detection-of-motorcyclists-without-helmet-main\\HelmetDetection\\yolo\\yolov3_custom.cfg\"\n",
    "weightsPath = r\"C:\\AKHIL\\projects\\motercycle_helmet\\detection-of-motorcyclists-without-helmet-main\\HelmetDetection\\yolo\\yolov3_custom_4000.weights\"\n",
    "\n",
    "net = cv2.dnn.readNetFromDarknet(configPath, weightsPath)\n",
    "\n",
    "ln = net.getLayerNames()\n",
    "outs = net.getUnconnectedOutLayers()\n",
    "\n",
    "if outs.ndim == 1 or (isinstance(outs, list) and all(isinstance(i, int) for i in outs)):\n",
    "    ln = [ln[i - 1] for i in outs]\n",
    "else:\n",
    "    ln = [ln[i - 1] for i in outs.flatten()]\n"
   ]
  },
  {
   "cell_type": "code",
   "execution_count": 46,
   "id": "4b014e6c",
   "metadata": {},
   "outputs": [
    {
     "name": "stderr",
     "output_type": "stream",
     "text": [
      "<>:1: SyntaxWarning: invalid escape sequence '\\A'\n",
      "<>:1: SyntaxWarning: invalid escape sequence '\\A'\n",
      "C:\\Users\\Abhay\\AppData\\Local\\Temp\\ipykernel_9900\\2029645495.py:1: SyntaxWarning: invalid escape sequence '\\A'\n",
      "  image_path = 'C:\\AKHIL\\projects\\motercycle_helmet\\detection-of-motorcyclists-without-helmet-main\\HelmetDetection\\input\\images\\sample.jpeg'\n"
     ]
    }
   ],
   "source": [
    "image_path = 'C:\\AKHIL\\projects\\motercycle_helmet\\detection-of-motorcyclists-without-helmet-main\\HelmetDetection\\input\\images\\sample.jpeg'\n",
    "image = cv2.imread(image_path)\n",
    "if image is None:\n",
    "    print(f\"Failed to load image at {image_path}\")\n",
    "else:\n",
    "    image = cv2.resize(image, None, fx=0.5, fy=0.5, interpolation=cv2.INTER_AREA)\n"
   ]
  },
  {
   "cell_type": "code",
   "execution_count": 47,
   "id": "429d34d9",
   "metadata": {},
   "outputs": [],
   "source": [
    "labelsPath = r\"C:\\AKHIL\\projects\\motercycle_helmet\\detection-of-motorcyclists-without-helmet-main\\HelmetDetection\\yolo\\obj .names\"\n",
    "\n",
    "with open(labelsPath, 'r') as f:\n",
    "    LABELS = f.read().strip().split(\"\\n\")\n"
   ]
  },
  {
   "cell_type": "code",
   "execution_count": 48,
   "id": "8846cf94",
   "metadata": {},
   "outputs": [],
   "source": [
    "image = cv2.imread(PATH_TO_IMAGE)\n",
    "image = cv2.resize(image,None,fx=0.5, fy=0.5, interpolation=cv2.INTER_AREA)\n",
    "image_expanded = np.expand_dims(image, axis=0)\n",
    "\n",
    "(boxes, scores, classes, num) = sess.run(\n",
    "    [detection_boxes, detection_scores, detection_classes, num_detections],\n",
    "    feed_dict={image_tensor: image_expanded})\n",
    "\n",
    "normalizedBoxes = np.squeeze(boxes)\n",
    "normalizedScores = np.squeeze(scores)\n",
    "normalizedClasses = np.squeeze(classes)\n",
    "\n",
    "min_score_thresh = 0.8\n",
    "detectedBoxes = normalizedBoxes[normalizedScores > min_score_thresh]\n",
    "detectedClasses = normalizedClasses[normalizedScores > min_score_thresh]\n",
    "\n",
    "im_height,im_width, _=image.shape\n",
    "size=(im_width, im_height)\n",
    "\n",
    "final_boxes = []\n",
    "for i in range(len(detectedBoxes)):\n",
    "    ymin, xmin, ymax, xmax = detectedBoxes[i]\n",
    "    final_boxes.append([xmin * im_width, xmax * im_width, ymin * im_height, ymax * im_height])\n",
    "\n",
    "j=0\n",
    "for [left,right,top,bottom] in final_boxes:\n",
    "\n",
    "    l=int(round(left))\n",
    "    r=int(round(right))\n",
    "    t=int(round(top))\n",
    "    b=int(round(bottom))\n",
    "    croppedImage=image[t:b,l:r]  \n",
    "\n",
    "    cv2.rectangle(image, (l,t), (r,b), (255,0,0), 2)\n",
    "\n",
    "    rows = croppedImage.shape[0]\n",
    "    cols = croppedImage.shape[1]\n",
    "    padding=0\n",
    "    if rows > cols:\n",
    "        padding = int((rows-cols) / 2)\n",
    "        paddedImg=cv2.copyMakeBorder(croppedImage, 0, 0, padding, padding,  cv2.BORDER_CONSTANT, (0, 0, 0))\n",
    "    else:\n",
    "        paddedImg=croppedImage\n",
    "\n",
    "    (H, W) = paddedImg.shape[:2]\n",
    "    blob = cv2.dnn.blobFromImage(paddedImg, 1 / 255.0, (416, 416), swapRB=True, crop=False)\n",
    "\n",
    "    net.setInput(blob)\n",
    "    layerOutputs = net.forward(ln)\n",
    "\n",
    "    boxesH = []\n",
    "    confidencesH = []\n",
    "    classIDsH = []\n",
    "    thresholdH = 0.15\n",
    "\n",
    "    for output in layerOutputs:\n",
    "        for detection in output:\n",
    "            confidenceOfEachClass = detection[5:]\n",
    "            classIDH = np.argmax(confidenceOfEachClass)   \n",
    "            confidenceH = confidenceOfEachClass[classIDH]  \n",
    "            if confidenceH > thresholdH:\n",
    "                boxH = detection[0:4] * np.array([W, H, W, H])\n",
    "                (centerX, centerY, widthH, heightH) = boxH.astype(\"int\")\n",
    "                x = int(centerX - (widthH / 2))\n",
    "                y = int(centerY - (heightH / 2))\n",
    "                boxesH.append([x, y, int(widthH), int(heightH)])\n",
    "                confidencesH.append(float(confidenceH))\n",
    "                classIDsH.append(classIDH)\n",
    "    idxs = cv2.dnn.NMSBoxes(boxesH, confidencesH, thresholdH, 0.1)\n",
    "\n",
    "    if len(idxs) > 0:\n",
    "        for i in idxs.flatten():\n",
    "            (x, y) = (boxesH[i][0], boxesH[i][1])\n",
    "            (w, h) = (boxesH[i][2], boxesH[i][3])\n",
    "            if LABELS[classIDsH[i]] == 'Helmet':\n",
    "                color = (0, 255, 0)\n",
    "                cv2.rectangle(croppedImage, (x-padding, y), (x + w-padding, y + h), color, 2)\n",
    "                text = \"{}\".format(LABELS[classIDsH[i]])\n",
    "                cv2.putText(croppedImage, text, (x//2, y+ 4*h//3),\n",
    "                cv2.FONT_HERSHEY_SIMPLEX,0.5, color, 2)\n",
    "            if (LABELS[classIDsH[i]] == 'No Helmet'):\n",
    "                name=IMAGE_NAME.split(\".\")[0].split('/')[-1]\n",
    "                j+=1\n",
    "                cv2.imwrite( PATH_TO_OUTPUT + '{}.jpg'.format(name+str(j)),croppedImage)\n",
    "\n",
    "                color = (0, 0, 255)\n",
    "                cv2.rectangle(croppedImage, (x-padding, y), (x + w-padding, y + h), color, 2)\n",
    "                text = \"{}\".format(LABELS[classIDsH[i]])\n",
    "                cv2.putText(croppedImage, text, (x//2, y + 4* h//3),\n",
    "                cv2.FONT_HERSHEY_SIMPLEX,0.5, color, 2)\n",
    "\n",
    "\n",
    "import cv2\n",
    "\n",
    "cv2.imshow(\"Output Image\", image)  \n",
    "\n",
    "\n",
    "cv2.waitKey(0)\n",
    "\n",
    "\n",
    "cv2.destroyAllWindows()\n"
   ]
  },
  {
   "cell_type": "code",
   "execution_count": 26,
   "id": "68ea99c6",
   "metadata": {},
   "outputs": [],
   "source": [
    "import os\n",
    "\n",
    "# Input image\n",
    "IMAGE_NAME = r'C:\\AKHIL\\projects\\motercycle_helmet\\detection-of-motorcyclists-without-helmet-main\\HelmetDetection\\input\\images\\sample.jpeg'\n",
    "\n",
    "# Input video\n",
    "VIDEO_NAME = r'C:\\AKHIL\\projects\\motercycle_helmet\\detection-of-motorcyclists-without-helmet-main\\HelmetDetection\\input\\videos\\clip.mp4'\n",
    "\n",
    "# Output folder\n",
    "OUTPUT_FOLDER = r'C:\\AKHIL\\projects\\motercycle_helmet\\detection-of-motorcyclists-without-helmet-main\\HelmetDetection\\output\\images'\n",
    "VIDEO_OUTPUT = r'C:\\AKHIL\\projects\\motercycle_helmet\\detection-of-motorcyclists-without-helmet-main\\HelmetDetection\\output\\output_clip.mp4'\n",
    "\n",
    "# Paths\n",
    "PATH_TO_IMAGE = IMAGE_NAME\n",
    "PATH_TO_VIDEO = VIDEO_NAME\n",
    "PATH_TO_OUTPUT = OUTPUT_FOLDER\n",
    "\n",
    "# Ensure output folder exists\n",
    "if not os.path.exists(PATH_TO_OUTPUT):\n",
    "    os.makedirs(PATH_TO_OUTPUT)\n"
   ]
  },
  {
   "cell_type": "code",
   "execution_count": null,
   "id": "38399651",
   "metadata": {},
   "outputs": [],
   "source": [
    "import cv2\n",
    "import os\n",
    "import numpy as np\n",
    "\n",
    "# Make sure PATH_TO_OUTPUT exists\n",
    "os.makedirs(PATH_TO_OUTPUT, exist_ok=True)\n",
    "\n",
    "video = cv2.VideoCapture(PATH_TO_VIDEO)\n",
    "if not video.isOpened():\n",
    "    raise ValueError(\"Cannot open video file: \" + PATH_TO_VIDEO)\n",
    "\n",
    "images = []\n",
    "f = 0\n",
    "size = None  # Will be defined from first frame\n",
    "\n",
    "while video.isOpened():\n",
    "    ret, image = video.read()\n",
    "    if not ret:\n",
    "        break\n",
    "\n",
    "    # Skip every 3rd frame\n",
    "    if f % 3 != 0:\n",
    "        f += 1\n",
    "        continue\n",
    "\n",
    "    # Resize frame\n",
    "    image = cv2.resize(image, None, fx=0.5, fy=0.5, interpolation=cv2.INTER_AREA)\n",
    "    if size is None:\n",
    "        im_height, im_width, _ = image.shape\n",
    "        size = (im_width, im_height)\n",
    "\n",
    "    image_expanded = np.expand_dims(image, axis=0)\n",
    "\n",
    "    # TensorFlow detection\n",
    "    (boxes, scores, classes, num) = sess.run(\n",
    "        [detection_boxes, detection_scores, detection_classes, num_detections],\n",
    "        feed_dict={image_tensor: image_expanded}\n",
    "    )\n",
    "\n",
    "    # Filter boxes\n",
    "    normalizedBoxes = np.squeeze(boxes)\n",
    "    normalizedScores = np.squeeze(scores)\n",
    "    normalizedClasses = np.squeeze(classes)\n",
    "    min_score_thresh = 0.8\n",
    "    detectedBoxes = normalizedBoxes[normalizedScores > min_score_thresh]\n",
    "    detectedClasses = normalizedClasses[normalizedScores > min_score_thresh]\n",
    "\n",
    "    # Convert to pixel coordinates\n",
    "    im_height, im_width, _ = image.shape\n",
    "    final_boxes = []\n",
    "    for box in detectedBoxes:\n",
    "        ymin, xmin, ymax, xmax = box\n",
    "        final_boxes.append([xmin * im_width, xmax * im_width, ymin * im_height, ymax * im_height])\n",
    "\n",
    "    j = 0\n",
    "    for left, right, top, bottom in final_boxes:\n",
    "        l, r, t, b = map(lambda x: int(round(x)), [left, right, top, bottom])\n",
    "        croppedImage = image[t:b, l:r]\n",
    "\n",
    "        # Padding\n",
    "        rows, cols = croppedImage.shape[:2]\n",
    "        if rows > cols:\n",
    "            padding = (rows - cols) // 2\n",
    "            paddedImg = cv2.copyMakeBorder(croppedImage, 0, 0, padding, padding, cv2.BORDER_CONSTANT, (0, 0, 0))\n",
    "        else:\n",
    "            paddedImg = croppedImage\n",
    "\n",
    "        # YOLO preprocessing\n",
    "        H, W = paddedImg.shape[:2]\n",
    "        blob = cv2.dnn.blobFromImage(paddedImg, 1 / 255.0, (416, 416), swapRB=True, crop=False)\n",
    "        net.setInput(blob)\n",
    "        layerOutputs = net.forward(ln)\n",
    "\n",
    "        # Process YOLO outputs\n",
    "        boxesH, confidencesH, classIDsH = [], [], []\n",
    "        thresholdH = 0.15\n",
    "        for output in layerOutputs:\n",
    "            for detection in output:\n",
    "                confs = detection[5:]\n",
    "                classIDH = np.argmax(confs)\n",
    "                confidenceH = confs[classIDH]\n",
    "                if confidenceH > thresholdH:\n",
    "                    boxH = detection[0:4] * np.array([W, H, W, H])\n",
    "                    cx, cy, w, h = boxH.astype(\"int\")\n",
    "                    x = int(cx - w / 2)\n",
    "                    y = int(cy - h / 2)\n",
    "                    boxesH.append([x, y, int(w), int(h)])\n",
    "                    confidencesH.append(float(confidenceH))\n",
    "                    classIDsH.append(classIDH)\n",
    "\n",
    "        idxs = cv2.dnn.NMSBoxes(boxesH, confidencesH, thresholdH, 0.1)\n",
    "\n",
    "        if len(idxs) > 0:\n",
    "            for i in idxs.flatten():\n",
    "                x, y, w, h = boxesH[i]\n",
    "                label = LABELS[classIDsH[i]]\n",
    "                if label == 'Helmet':\n",
    "                    color = (0, 255, 0)\n",
    "                    cv2.rectangle(croppedImage, (x-padding, y), (x + w-padding, y + h), color, 2)\n",
    "                    cv2.putText(croppedImage, label, (x//2, y + 4*h//3),\n",
    "                                cv2.FONT_HERSHEY_SIMPLEX, 0.5, color, 2)\n",
    "                if label == 'No Helmet':\n",
    "                    name = os.path.join(PATH_TO_OUTPUT, VIDEO_NAME.split(\".\")[0].split('/')[-1] + f\"_{f}_{j}.jpg\")\n",
    "                    cv2.imwrite(name, croppedImage)\n",
    "                    j += 1\n",
    "                    color = (0, 0, 255)\n",
    "                    cv2.rectangle(croppedImage, (x-padding, y), (x + w-padding, y + h), color, 2)\n",
    "                    cv2.putText(croppedImage, label, (x//2, y + 4*h//3),\n",
    "                                cv2.FONT_HERSHEY_SIMPLEX, 0.5, color, 2)\n",
    "\n",
    "    images.append(image)\n",
    "    f += 1\n",
    "\n",
    "video.release()\n",
    "\n",
    "# Write video\n",
    "if size is not None:\n",
    "    out = cv2.VideoWriter(VIDEO_OUTPUT, cv2.VideoWriter_fourcc(*'mp4v'), 15, size)\n",
    "    for frame in images:\n",
    "        out.write(frame)\n",
    "    out.release()\n"
   ]
  }
 ],
 "metadata": {
  "kernelspec": {
   "display_name": "venv",
   "language": "python",
   "name": "python3"
  },
  "language_info": {
   "codemirror_mode": {
    "name": "ipython",
    "version": 3
   },
   "file_extension": ".py",
   "mimetype": "text/x-python",
   "name": "python",
   "nbconvert_exporter": "python",
   "pygments_lexer": "ipython3",
   "version": "3.12.6"
  }
 },
 "nbformat": 4,
 "nbformat_minor": 5
}
